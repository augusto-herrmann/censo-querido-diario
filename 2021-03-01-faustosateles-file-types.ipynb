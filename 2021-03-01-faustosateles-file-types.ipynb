{
 "cells": [
  {
   "cell_type": "markdown",
   "metadata": {},
   "source": [
    "# Estatísticas de formatos de arquivo no censo de Diários Oficiais\n",
    "\n",
    "Agora temos uma funcionalidade no site do [Censo](https://censo.ok.org.br/) que permite baixar os dados do mapeamento.\n",
    "A partir desses dados, podemos encontrar analisar os formatos de arquivos que estão sendo utilizados nos diários oficiais e identificar oportunidades para maior aderência aos princípios de dados abertos.\n",
    "\n",
    "Para reproduzir esse notebook:\n",
    "1. Acesse a página do [andamento do censo](https://censo.ok.org.br/andamento/#view) e faça o download dos dados\n",
    "2. Coloque o arquivo na pasta `notebooks/`"
   ]
  },
  {
   "cell_type": "code",
   "execution_count": null,
   "metadata": {},
   "outputs": [],
   "source": [
    "# importa bibliotecas\n",
    "import pandas as pd\n",
    "import numpy as np\n",
    "import matplotlib.pyplot as plt\n",
    "\n",
    "# carrega arquivo\n",
    "df = pd.read_csv('base_mapeamento.csv', sep=',')"
   ]
  },
  {
   "cell_type": "code",
   "execution_count": 838,
   "metadata": {
    "scrolled": true
   },
   "outputs": [
    {
     "data": {
      "text/html": [
       "<div>\n",
       "<style scoped>\n",
       "    .dataframe tbody tr th:only-of-type {\n",
       "        vertical-align: middle;\n",
       "    }\n",
       "\n",
       "    .dataframe tbody tr th {\n",
       "        vertical-align: top;\n",
       "    }\n",
       "\n",
       "    .dataframe thead th {\n",
       "        text-align: right;\n",
       "    }\n",
       "</style>\n",
       "<table border=\"1\" class=\"dataframe\">\n",
       "  <thead>\n",
       "    <tr style=\"text-align: right;\">\n",
       "      <th></th>\n",
       "      <th>municipio</th>\n",
       "      <th>IBGE</th>\n",
       "      <th>IBGE7</th>\n",
       "      <th>UF</th>\n",
       "      <th>regiao</th>\n",
       "      <th>populacao_2020</th>\n",
       "      <th>eh_capital</th>\n",
       "      <th>fonte_1</th>\n",
       "      <th>fonte_2</th>\n",
       "      <th>fonte_3</th>\n",
       "      <th>fonte_4</th>\n",
       "      <th>is_online</th>\n",
       "      <th>data_inicial</th>\n",
       "      <th>tipo_arquivo</th>\n",
       "      <th>validacao</th>\n",
       "      <th>navegacao</th>\n",
       "      <th>observacoes</th>\n",
       "    </tr>\n",
       "  </thead>\n",
       "  <tbody>\n",
       "    <tr>\n",
       "      <td>0</td>\n",
       "      <td>Abaetetuba (PA)</td>\n",
       "      <td>150010</td>\n",
       "      <td>1500107</td>\n",
       "      <td>PA</td>\n",
       "      <td>Região Norte</td>\n",
       "      <td>159080</td>\n",
       "      <td>False</td>\n",
       "      <td>http://www.diariomunicipal.com.br/famep/pesqui...</td>\n",
       "      <td>None</td>\n",
       "      <td>None</td>\n",
       "      <td>None</td>\n",
       "      <td>1</td>\n",
       "      <td>2016-06-30</td>\n",
       "      <td>HTML</td>\n",
       "      <td>True</td>\n",
       "      <td>None</td>\n",
       "      <td>NaN</td>\n",
       "    </tr>\n",
       "    <tr>\n",
       "      <td>1</td>\n",
       "      <td>Abreu e Lima (PE)</td>\n",
       "      <td>260005</td>\n",
       "      <td>2600054</td>\n",
       "      <td>PE</td>\n",
       "      <td>Região Nordeste</td>\n",
       "      <td>100346</td>\n",
       "      <td>False</td>\n",
       "      <td>http://www.diariomunicipal.com.br/amupe/</td>\n",
       "      <td>None</td>\n",
       "      <td>None</td>\n",
       "      <td>None</td>\n",
       "      <td>1</td>\n",
       "      <td>None</td>\n",
       "      <td>PDF texto</td>\n",
       "      <td>True</td>\n",
       "      <td>None</td>\n",
       "      <td>O Diário Oficial do município de Abreu e Lima ...</td>\n",
       "    </tr>\n",
       "    <tr>\n",
       "      <td>2</td>\n",
       "      <td>Alagoinhas (BA)</td>\n",
       "      <td>290070</td>\n",
       "      <td>2900702</td>\n",
       "      <td>BA</td>\n",
       "      <td>Região Nordeste</td>\n",
       "      <td>152327</td>\n",
       "      <td>False</td>\n",
       "      <td>https://doem.org.br/ba/alagoinhas</td>\n",
       "      <td>None</td>\n",
       "      <td>None</td>\n",
       "      <td>None</td>\n",
       "      <td>1</td>\n",
       "      <td>2015-01-28</td>\n",
       "      <td>PDF texto</td>\n",
       "      <td>True</td>\n",
       "      <td>None</td>\n",
       "      <td>None</td>\n",
       "    </tr>\n",
       "    <tr>\n",
       "      <td>3</td>\n",
       "      <td>Almirante Tamandaré (PR)</td>\n",
       "      <td>410040</td>\n",
       "      <td>4100400</td>\n",
       "      <td>PR</td>\n",
       "      <td>Região Sul</td>\n",
       "      <td>120041</td>\n",
       "      <td>False</td>\n",
       "      <td>http://www.diariomunicipal.com.br/amp/pesquisa...</td>\n",
       "      <td>None</td>\n",
       "      <td>None</td>\n",
       "      <td>None</td>\n",
       "      <td>1</td>\n",
       "      <td>2014-01-08</td>\n",
       "      <td>HTML</td>\n",
       "      <td>True</td>\n",
       "      <td>None</td>\n",
       "      <td>NaN</td>\n",
       "    </tr>\n",
       "    <tr>\n",
       "      <td>4</td>\n",
       "      <td>Altamira (PA)</td>\n",
       "      <td>150060</td>\n",
       "      <td>1500602</td>\n",
       "      <td>PA</td>\n",
       "      <td>Região Norte</td>\n",
       "      <td>115969</td>\n",
       "      <td>False</td>\n",
       "      <td>http://altamira.pa.gov.br/site/download-catego...</td>\n",
       "      <td>None</td>\n",
       "      <td>None</td>\n",
       "      <td>None</td>\n",
       "      <td>1</td>\n",
       "      <td>2013-05-11</td>\n",
       "      <td>PDF imagem</td>\n",
       "      <td>True</td>\n",
       "      <td>None</td>\n",
       "      <td>NaN</td>\n",
       "    </tr>\n",
       "  </tbody>\n",
       "</table>\n",
       "</div>"
      ],
      "text/plain": [
       "                  municipio    IBGE    IBGE7  UF           regiao  \\\n",
       "0           Abaetetuba (PA)  150010  1500107  PA     Região Norte   \n",
       "1         Abreu e Lima (PE)  260005  2600054  PE  Região Nordeste   \n",
       "2           Alagoinhas (BA)  290070  2900702  BA  Região Nordeste   \n",
       "3  Almirante Tamandaré (PR)  410040  4100400  PR       Região Sul   \n",
       "4             Altamira (PA)  150060  1500602  PA     Região Norte   \n",
       "\n",
       "   populacao_2020  eh_capital  \\\n",
       "0          159080       False   \n",
       "1          100346       False   \n",
       "2          152327       False   \n",
       "3          120041       False   \n",
       "4          115969       False   \n",
       "\n",
       "                                             fonte_1 fonte_2 fonte_3 fonte_4  \\\n",
       "0  http://www.diariomunicipal.com.br/famep/pesqui...    None    None    None   \n",
       "1           http://www.diariomunicipal.com.br/amupe/    None    None    None   \n",
       "2                  https://doem.org.br/ba/alagoinhas    None    None    None   \n",
       "3  http://www.diariomunicipal.com.br/amp/pesquisa...    None    None    None   \n",
       "4  http://altamira.pa.gov.br/site/download-catego...    None    None    None   \n",
       "\n",
       "   is_online data_inicial tipo_arquivo  validacao navegacao  \\\n",
       "0          1   2016-06-30         HTML       True      None   \n",
       "1          1         None    PDF texto       True      None   \n",
       "2          1   2015-01-28    PDF texto       True      None   \n",
       "3          1   2014-01-08         HTML       True      None   \n",
       "4          1   2013-05-11   PDF imagem       True      None   \n",
       "\n",
       "                                         observacoes  \n",
       "0                                                NaN  \n",
       "1  O Diário Oficial do município de Abreu e Lima ...  \n",
       "2                                               None  \n",
       "3                                                NaN  \n",
       "4                                                NaN  "
      ]
     },
     "execution_count": 838,
     "metadata": {},
     "output_type": "execute_result"
    }
   ],
   "source": [
    "df.head()"
   ]
  },
  {
   "cell_type": "markdown",
   "metadata": {},
   "source": [
    "## Análise preliminar\n",
    "\n",
    "- Verifica-se que o dataframe possui registros de 326 municípios com mais de 100.000 habitantes, utilizando 4 formatos de arquivo principais em seus diários oficiais: PDF texto, HTML, PDF imagem e DOCX.\n",
    "- Além desses, há 2 registros sem formato identificado (\"None\") (municípios de Rio Grande - RS e Viamão - RS) e 5 sob a categoria \"Outro formato\" (Lagarto - SE e Poá -SP, que disponibilizam seus D.O. em formatos de imagem; São Pedro da Aldeia - RJ, sem mais informações sobre formato; e Tatuí - SP e Tubarão - SC, que disponibilizam seus D.O. em vários formatos, a depender do acesso).\n",
    "- O formato mais utilizado é o PDF texto, seguido por HTML. Tal constatação é positiva, pois esses são formatos abertos e mais aderentes aos princípios de dados abertos que PDF imagem (que dificulta a localização e extração de dados) e DOCX (que é um formato proprietário da Microsoft)."
   ]
  },
  {
   "cell_type": "code",
   "execution_count": 803,
   "metadata": {},
   "outputs": [
    {
     "data": {
      "text/plain": [
       "count           326\n",
       "unique            6\n",
       "top       PDF texto\n",
       "freq            223\n",
       "Name: tipo_arquivo, dtype: object"
      ]
     },
     "execution_count": 803,
     "metadata": {},
     "output_type": "execute_result"
    }
   ],
   "source": [
    "df[\"tipo_arquivo\"].describe()"
   ]
  },
  {
   "cell_type": "code",
   "execution_count": 804,
   "metadata": {},
   "outputs": [
    {
     "data": {
      "text/plain": [
       "PDF texto        223\n",
       "HTML              56\n",
       "PDF imagem        39\n",
       "Outro formato      5\n",
       "None               2\n",
       "DOCX               1\n",
       "Name: tipo_arquivo, dtype: int64"
      ]
     },
     "execution_count": 804,
     "metadata": {},
     "output_type": "execute_result"
    }
   ],
   "source": [
    "df[\"tipo_arquivo\"].value_counts()"
   ]
  },
  {
   "cell_type": "code",
   "execution_count": 805,
   "metadata": {},
   "outputs": [
    {
     "data": {
      "text/html": [
       "<div>\n",
       "<style scoped>\n",
       "    .dataframe tbody tr th:only-of-type {\n",
       "        vertical-align: middle;\n",
       "    }\n",
       "\n",
       "    .dataframe tbody tr th {\n",
       "        vertical-align: top;\n",
       "    }\n",
       "\n",
       "    .dataframe thead th {\n",
       "        text-align: right;\n",
       "    }\n",
       "</style>\n",
       "<table border=\"1\" class=\"dataframe\">\n",
       "  <thead>\n",
       "    <tr style=\"text-align: right;\">\n",
       "      <th></th>\n",
       "      <th>municipio</th>\n",
       "      <th>IBGE</th>\n",
       "      <th>IBGE7</th>\n",
       "      <th>UF</th>\n",
       "      <th>regiao</th>\n",
       "      <th>populacao_2020</th>\n",
       "      <th>eh_capital</th>\n",
       "      <th>fonte_1</th>\n",
       "      <th>fonte_2</th>\n",
       "      <th>fonte_3</th>\n",
       "      <th>fonte_4</th>\n",
       "      <th>is_online</th>\n",
       "      <th>data_inicial</th>\n",
       "      <th>tipo_arquivo</th>\n",
       "      <th>validacao</th>\n",
       "      <th>navegacao</th>\n",
       "      <th>observacoes</th>\n",
       "    </tr>\n",
       "  </thead>\n",
       "  <tbody>\n",
       "    <tr>\n",
       "      <td>242</td>\n",
       "      <td>Rio Grande (RS)</td>\n",
       "      <td>431560</td>\n",
       "      <td>4315602</td>\n",
       "      <td>RS</td>\n",
       "      <td>Região Sul</td>\n",
       "      <td>211965</td>\n",
       "      <td>False</td>\n",
       "      <td>https://www.in.gov.br/consulta/-/buscar/dou?q=...</td>\n",
       "      <td>None</td>\n",
       "      <td>None</td>\n",
       "      <td>None</td>\n",
       "      <td>3</td>\n",
       "      <td>None</td>\n",
       "      <td>None</td>\n",
       "      <td>True</td>\n",
       "      <td>None</td>\n",
       "      <td>Não encontrado veículo de publicação oficial n...</td>\n",
       "    </tr>\n",
       "    <tr>\n",
       "      <td>315</td>\n",
       "      <td>Viamão (RS)</td>\n",
       "      <td>432300</td>\n",
       "      <td>4323002</td>\n",
       "      <td>RS</td>\n",
       "      <td>Região Sul</td>\n",
       "      <td>256302</td>\n",
       "      <td>False</td>\n",
       "      <td>https://www.in.gov.br/consulta/-/buscar/dou?q=...</td>\n",
       "      <td>None</td>\n",
       "      <td>None</td>\n",
       "      <td>None</td>\n",
       "      <td>3</td>\n",
       "      <td>None</td>\n",
       "      <td>None</td>\n",
       "      <td>True</td>\n",
       "      <td>None</td>\n",
       "      <td>Endereço existe (https://www.viamao.rs.gov.br/...</td>\n",
       "    </tr>\n",
       "  </tbody>\n",
       "</table>\n",
       "</div>"
      ],
      "text/plain": [
       "           municipio    IBGE    IBGE7  UF      regiao  populacao_2020  \\\n",
       "242  Rio Grande (RS)  431560  4315602  RS  Região Sul          211965   \n",
       "315      Viamão (RS)  432300  4323002  RS  Região Sul          256302   \n",
       "\n",
       "     eh_capital                                            fonte_1 fonte_2  \\\n",
       "242       False  https://www.in.gov.br/consulta/-/buscar/dou?q=...    None   \n",
       "315       False  https://www.in.gov.br/consulta/-/buscar/dou?q=...    None   \n",
       "\n",
       "    fonte_3 fonte_4  is_online data_inicial tipo_arquivo  validacao navegacao  \\\n",
       "242    None    None          3         None         None       True      None   \n",
       "315    None    None          3         None         None       True      None   \n",
       "\n",
       "                                           observacoes  \n",
       "242  Não encontrado veículo de publicação oficial n...  \n",
       "315  Endereço existe (https://www.viamao.rs.gov.br/...  "
      ]
     },
     "execution_count": 805,
     "metadata": {},
     "output_type": "execute_result"
    }
   ],
   "source": [
    "df[df[\"tipo_arquivo\"]==\"None\"]"
   ]
  },
  {
   "cell_type": "code",
   "execution_count": 806,
   "metadata": {},
   "outputs": [
    {
     "data": {
      "text/plain": [
       "(326, 17)"
      ]
     },
     "execution_count": 806,
     "metadata": {},
     "output_type": "execute_result"
    }
   ],
   "source": [
    "df.shape"
   ]
  },
  {
   "cell_type": "code",
   "execution_count": 807,
   "metadata": {},
   "outputs": [],
   "source": [
    "# Exclui do dataframe os municípios sem informação de formato\n",
    "df = df[df['tipo_arquivo'] != \"None\"]"
   ]
  },
  {
   "cell_type": "code",
   "execution_count": 839,
   "metadata": {},
   "outputs": [
    {
     "data": {
      "text/plain": [
       "(326, 17)"
      ]
     },
     "execution_count": 839,
     "metadata": {},
     "output_type": "execute_result"
    }
   ],
   "source": [
    "# Verifica-se que os dois registros sem indicação de formato foram retirados\n",
    "df.shape"
   ]
  },
  {
   "cell_type": "code",
   "execution_count": 854,
   "metadata": {},
   "outputs": [
    {
     "data": {
      "text/html": [
       "<div>\n",
       "<style scoped>\n",
       "    .dataframe tbody tr th:only-of-type {\n",
       "        vertical-align: middle;\n",
       "    }\n",
       "\n",
       "    .dataframe tbody tr th {\n",
       "        vertical-align: top;\n",
       "    }\n",
       "\n",
       "    .dataframe thead th {\n",
       "        text-align: right;\n",
       "    }\n",
       "</style>\n",
       "<table border=\"1\" class=\"dataframe\">\n",
       "  <thead>\n",
       "    <tr style=\"text-align: right;\">\n",
       "      <th></th>\n",
       "      <th>municipio</th>\n",
       "      <th>observacoes</th>\n",
       "    </tr>\n",
       "  </thead>\n",
       "  <tbody>\n",
       "    <tr>\n",
       "      <td>160</td>\n",
       "      <td>Lagarto (SE)</td>\n",
       "      <td>O ambiente aberto permite visualizar apenas como imagem.</td>\n",
       "    </tr>\n",
       "    <tr>\n",
       "      <td>229</td>\n",
       "      <td>Poá (SP)</td>\n",
       "      <td>Imagem (jpg)</td>\n",
       "    </tr>\n",
       "    <tr>\n",
       "      <td>289</td>\n",
       "      <td>São Pedro da Aldeia (RJ)</td>\n",
       "      <td>NaN</td>\n",
       "    </tr>\n",
       "    <tr>\n",
       "      <td>294</td>\n",
       "      <td>Tatuí (SP)</td>\n",
       "      <td>Só existem 2 diários oficiais disponíveis no site como publicações (15 e 22 fev. 2019), no entanto a página reúne todas as publicações oficiais do munícipio e cada uma delas está disponível em um formato de arquivo diferente, por exemplo: as execuções orçamentárias estão em .xls, os editais de pregões em .docx e a legislação em .pdf\\r\\n\\r\\nA data de início é a data do ato oficial mais antigo encontrado, após buscas nas seções \"Editais de chamamento\", \"Leis municipais\", \"Decretos municipais\" e \"Audiências públicas\" (ver anomalia). Foram desconsideradas datas anteriores das seções \"Contas Públicas\" e \"Leis orçamentárias\", que contém arquivos de anos anteriores, mas sem os respectivos atos publicados. \\r\\n\\r\\nEmbora haja editais de chamamento e avisos de audiência pública desde 2010/2011, as seções de leis e decretos parecem conter atos só a partir de 2015.</td>\n",
       "    </tr>\n",
       "    <tr>\n",
       "      <td>304</td>\n",
       "      <td>Tubarão (SC)</td>\n",
       "      <td>O formato do arquivo depende do tipo de ato, por exemplo os Decretos estão em .odt e os pregões em .pdf</td>\n",
       "    </tr>\n",
       "  </tbody>\n",
       "</table>\n",
       "</div>"
      ],
      "text/plain": [
       "                    municipio  \\\n",
       "160              Lagarto (SE)   \n",
       "229                  Poá (SP)   \n",
       "289  São Pedro da Aldeia (RJ)   \n",
       "294                Tatuí (SP)   \n",
       "304              Tubarão (SC)   \n",
       "\n",
       "                                                                                                                                                                                                                                                                                                                                                                                                                                                                                                                                                                                                                                                                                                                                                                                                                                                                                            observacoes  \n",
       "160                                                                                                                                                                                                                                                                                                                                                                                                                                                                                                                                                                                                                                                                                                                                                                                                                                            O ambiente aberto permite visualizar apenas como imagem.  \n",
       "229                                                                                                                                                                                                                                                                                                                                                                                                                                                                                                                                                                                                                                                                                                                                                                                                                                                                                        Imagem (jpg)  \n",
       "289                                                                                                                                                                                                                                                                                                                                                                                                                                                                                                                                                                                                                                                                                                                                                                                                                                                                                                 NaN  \n",
       "294  Só existem 2 diários oficiais disponíveis no site como publicações (15 e 22 fev. 2019), no entanto a página reúne todas as publicações oficiais do munícipio e cada uma delas está disponível em um formato de arquivo diferente, por exemplo: as execuções orçamentárias estão em .xls, os editais de pregões em .docx e a legislação em .pdf\\r\\n\\r\\nA data de início é a data do ato oficial mais antigo encontrado, após buscas nas seções \"Editais de chamamento\", \"Leis municipais\", \"Decretos municipais\" e \"Audiências públicas\" (ver anomalia). Foram desconsideradas datas anteriores das seções \"Contas Públicas\" e \"Leis orçamentárias\", que contém arquivos de anos anteriores, mas sem os respectivos atos publicados. \\r\\n\\r\\nEmbora haja editais de chamamento e avisos de audiência pública desde 2010/2011, as seções de leis e decretos parecem conter atos só a partir de 2015.  \n",
       "304                                                                                                                                                                                                                                                                                                                                                                                                                                                                                                                                                                                                                                                                                                                                                                                             O formato do arquivo depende do tipo de ato, por exemplo os Decretos estão em .odt e os pregões em .pdf  "
      ]
     },
     "execution_count": 854,
     "metadata": {},
     "output_type": "execute_result"
    }
   ],
   "source": [
    "# Municípios que disponibilizam o diário oficial em \"Outro formato\"\n",
    "pd.options.display.max_colwidth = 1000\n",
    "df[df['tipo_arquivo'] == 'Outro formato'][['municipio','observacoes']]"
   ]
  },
  {
   "cell_type": "markdown",
   "metadata": {},
   "source": [
    "## Análise nacional: formatos, municípios e população.\n",
    "- Olhando o país como um todo, verifica-se que quase 70% dos municípios disponibilizam seus D.O. no formato PDF texto. Esses municípios atendem a quase 80% da população do país, o que indica que os municípios mais populosos dão preferência a esse formato.\n",
    "- Esse fenômeno se inverte para os outros formatos (a participações é maior em termos de números de municípios do que de população atendida). Isso indica que os outros formatos são mais utilizados por municípios de menor população."
   ]
  },
  {
   "cell_type": "code",
   "execution_count": 833,
   "metadata": {},
   "outputs": [
    {
     "data": {
      "text/html": [
       "<style  type=\"text/css\" >\n",
       "</style><table id=\"T_409fe576_7ef6_11eb_8063_e454e805b732\" ><thead>    <tr>        <th class=\"blank level0\" ></th>        <th class=\"col_heading level0 col0\" >tipo_arquivo</th>        <th class=\"col_heading level0 col1\" >municipio</th>        <th class=\"col_heading level0 col2\" >populacao_2020</th>    </tr></thead><tbody>\n",
       "                <tr>\n",
       "                        <th id=\"T_409fe576_7ef6_11eb_8063_e454e805b732level0_row0\" class=\"row_heading level0 row0\" >0</th>\n",
       "                        <td id=\"T_409fe576_7ef6_11eb_8063_e454e805b732row0_col0\" class=\"data row0 col0\" >DOCX</td>\n",
       "                        <td id=\"T_409fe576_7ef6_11eb_8063_e454e805b732row0_col1\" class=\"data row0 col1\" >0.31%</td>\n",
       "                        <td id=\"T_409fe576_7ef6_11eb_8063_e454e805b732row0_col2\" class=\"data row0 col2\" >0.11%</td>\n",
       "            </tr>\n",
       "            <tr>\n",
       "                        <th id=\"T_409fe576_7ef6_11eb_8063_e454e805b732level0_row1\" class=\"row_heading level0 row1\" >1</th>\n",
       "                        <td id=\"T_409fe576_7ef6_11eb_8063_e454e805b732row1_col0\" class=\"data row1 col0\" >HTML</td>\n",
       "                        <td id=\"T_409fe576_7ef6_11eb_8063_e454e805b732row1_col1\" class=\"data row1 col1\" >17.28%</td>\n",
       "                        <td id=\"T_409fe576_7ef6_11eb_8063_e454e805b732row1_col2\" class=\"data row1 col2\" >9.97%</td>\n",
       "            </tr>\n",
       "            <tr>\n",
       "                        <th id=\"T_409fe576_7ef6_11eb_8063_e454e805b732level0_row2\" class=\"row_heading level0 row2\" >2</th>\n",
       "                        <td id=\"T_409fe576_7ef6_11eb_8063_e454e805b732row2_col0\" class=\"data row2 col0\" >Outro formato</td>\n",
       "                        <td id=\"T_409fe576_7ef6_11eb_8063_e454e805b732row2_col1\" class=\"data row2 col1\" >1.54%</td>\n",
       "                        <td id=\"T_409fe576_7ef6_11eb_8063_e454e805b732row2_col2\" class=\"data row2 col2\" >0.46%</td>\n",
       "            </tr>\n",
       "            <tr>\n",
       "                        <th id=\"T_409fe576_7ef6_11eb_8063_e454e805b732level0_row3\" class=\"row_heading level0 row3\" >3</th>\n",
       "                        <td id=\"T_409fe576_7ef6_11eb_8063_e454e805b732row3_col0\" class=\"data row3 col0\" >PDF imagem</td>\n",
       "                        <td id=\"T_409fe576_7ef6_11eb_8063_e454e805b732row3_col1\" class=\"data row3 col1\" >12.04%</td>\n",
       "                        <td id=\"T_409fe576_7ef6_11eb_8063_e454e805b732row3_col2\" class=\"data row3 col2\" >10.93%</td>\n",
       "            </tr>\n",
       "            <tr>\n",
       "                        <th id=\"T_409fe576_7ef6_11eb_8063_e454e805b732level0_row4\" class=\"row_heading level0 row4\" >4</th>\n",
       "                        <td id=\"T_409fe576_7ef6_11eb_8063_e454e805b732row4_col0\" class=\"data row4 col0\" >PDF texto</td>\n",
       "                        <td id=\"T_409fe576_7ef6_11eb_8063_e454e805b732row4_col1\" class=\"data row4 col1\" >68.83%</td>\n",
       "                        <td id=\"T_409fe576_7ef6_11eb_8063_e454e805b732row4_col2\" class=\"data row4 col2\" >78.53%</td>\n",
       "            </tr>\n",
       "    </tbody></table>"
      ],
      "text/plain": [
       "<pandas.io.formats.style.Styler at 0x1d54571eec8>"
      ]
     },
     "execution_count": 833,
     "metadata": {},
     "output_type": "execute_result"
    }
   ],
   "source": [
    "# Percentual de municípios utilizando cada formato\n",
    "df_m = df.groupby([\"tipo_arquivo\"])[\"municipio\"].nunique()\n",
    "num_municipios = df['municipio'].nunique()\n",
    "df_m_perc = df_m/num_municipios\n",
    "\n",
    "# Percentual da população com acesso a cada formato\n",
    "df_p = df.groupby([\"tipo_arquivo\"])[\"populacao_2020\"].sum()\n",
    "pop_total = df['populacao_2020'].sum()\n",
    "df_p_perc = df_p/pop_total\n",
    "\n",
    "# Percentuais de municípios e da população com acesso em cada formato\n",
    "df_m_perc = df_m_perc.reset_index()\n",
    "df_p_perc = df_p_perc.reset_index()\n",
    "df_m_p_perc = df_m_perc.merge(df_p_perc, on=\"tipo_arquivo\")\n",
    "df_m_p_perc.style.format({\n",
    "    'municipio': '{:.2%}'.format,\n",
    "    'populacao_2020': '{:.2%}'.format,\n",
    "})"
   ]
  },
  {
   "cell_type": "code",
   "execution_count": 835,
   "metadata": {},
   "outputs": [
    {
     "data": {
      "text/plain": [
       "<matplotlib.axes._subplots.AxesSubplot at 0x1d5424a5d48>"
      ]
     },
     "execution_count": 835,
     "metadata": {},
     "output_type": "execute_result"
    },
    {
     "data": {
      "image/png": "[encoded data removed]",
      "text/plain": [
       "<Figure size 432x288 with 1 Axes>"
      ]
     },
     "metadata": {
      "needs_background": "light"
     },
     "output_type": "display_data"
    }
   ],
   "source": [
    "# Visualização da quantidade de municípios utilizando cada formato\n",
    "df_m.plot.barh()"
   ]
  },
  {
   "cell_type": "code",
   "execution_count": 832,
   "metadata": {},
   "outputs": [
    {
     "data": {
      "image/png": "[encoded data removed]",
      "text/plain": [
       "<Figure size 432x288 with 1 Axes>"
      ]
     },
     "metadata": {
      "needs_background": "light"
     },
     "output_type": "display_data"
    }
   ],
   "source": [
    "# Visualização da parcela de municípios e da população com acesso em cada formato\n",
    "df_m_p_perc.plot.bar(x=\"tipo_arquivo\")\n",
    "plt.legend(bbox_to_anchor=(1, 1.02))\n",
    "plt.show()"
   ]
  },
  {
   "cell_type": "markdown",
   "metadata": {},
   "source": [
    "## Análise regional\n",
    "- Verifica-se que a Região Sudeste é aquela que mais oferta D.O. no formato PDF texto sob todos os critérios medidos: em termos absolutos, de percentual de municípios e de percentual da população atendida.\n",
    "- Tendo em conta as desvantagens do formato PDF imagem (dificuldade para encontrar e extrair informações), o destaque negativo fica para a Região Nordeste, que possui o maior percentual de municípios e da população atendida nesse formato."
   ]
  },
  {
   "cell_type": "code",
   "execution_count": 811,
   "metadata": {},
   "outputs": [
    {
     "data": {
      "text/html": [
       "<div>\n",
       "<style scoped>\n",
       "    .dataframe tbody tr th:only-of-type {\n",
       "        vertical-align: middle;\n",
       "    }\n",
       "\n",
       "    .dataframe tbody tr th {\n",
       "        vertical-align: top;\n",
       "    }\n",
       "\n",
       "    .dataframe thead th {\n",
       "        text-align: right;\n",
       "    }\n",
       "</style>\n",
       "<table border=\"1\" class=\"dataframe\">\n",
       "  <thead>\n",
       "    <tr style=\"text-align: right;\">\n",
       "      <th>tipo_arquivo</th>\n",
       "      <th>DOCX</th>\n",
       "      <th>HTML</th>\n",
       "      <th>Outro formato</th>\n",
       "      <th>PDF imagem</th>\n",
       "      <th>PDF texto</th>\n",
       "    </tr>\n",
       "    <tr>\n",
       "      <th>regiao</th>\n",
       "      <th></th>\n",
       "      <th></th>\n",
       "      <th></th>\n",
       "      <th></th>\n",
       "      <th></th>\n",
       "    </tr>\n",
       "  </thead>\n",
       "  <tbody>\n",
       "    <tr>\n",
       "      <td>Região Centro-Oeste</td>\n",
       "      <td>0</td>\n",
       "      <td>5</td>\n",
       "      <td>0</td>\n",
       "      <td>3</td>\n",
       "      <td>16</td>\n",
       "    </tr>\n",
       "    <tr>\n",
       "      <td>Região Nordeste</td>\n",
       "      <td>0</td>\n",
       "      <td>9</td>\n",
       "      <td>1</td>\n",
       "      <td>12</td>\n",
       "      <td>42</td>\n",
       "    </tr>\n",
       "    <tr>\n",
       "      <td>Região Norte</td>\n",
       "      <td>0</td>\n",
       "      <td>11</td>\n",
       "      <td>0</td>\n",
       "      <td>4</td>\n",
       "      <td>16</td>\n",
       "    </tr>\n",
       "    <tr>\n",
       "      <td>Região Sudeste</td>\n",
       "      <td>0</td>\n",
       "      <td>14</td>\n",
       "      <td>3</td>\n",
       "      <td>18</td>\n",
       "      <td>119</td>\n",
       "    </tr>\n",
       "    <tr>\n",
       "      <td>Região Sul</td>\n",
       "      <td>1</td>\n",
       "      <td>17</td>\n",
       "      <td>1</td>\n",
       "      <td>2</td>\n",
       "      <td>30</td>\n",
       "    </tr>\n",
       "  </tbody>\n",
       "</table>\n",
       "</div>"
      ],
      "text/plain": [
       "tipo_arquivo         DOCX  HTML  Outro formato  PDF imagem  PDF texto\n",
       "regiao                                                               \n",
       "Região Centro-Oeste     0     5              0           3         16\n",
       "Região Nordeste         0     9              1          12         42\n",
       "Região Norte            0    11              0           4         16\n",
       "Região Sudeste          0    14              3          18        119\n",
       "Região Sul              1    17              1           2         30"
      ]
     },
     "execution_count": 811,
     "metadata": {},
     "output_type": "execute_result"
    }
   ],
   "source": [
    "# Número de municípios utilizando cada formato, por região\n",
    "df_r = df.groupby([\"regiao\",\"tipo_arquivo\"])[\"municipio\"].nunique()\n",
    "df_r = df_r.reset_index().pivot('regiao', 'tipo_arquivo', 'municipio')\n",
    "df_r = df_r.fillna(0).astype(int)\n",
    "df_r"
   ]
  },
  {
   "cell_type": "code",
   "execution_count": 812,
   "metadata": {},
   "outputs": [
    {
     "data": {
      "text/html": [
       "<style  type=\"text/css\" >\n",
       "</style><table id=\"T_f436b47e_7ef4_11eb_9480_e454e805b732\" ><thead>    <tr>        <th class=\"index_name level0\" >tipo_arquivo</th>        <th class=\"col_heading level0 col0\" >DOCX</th>        <th class=\"col_heading level0 col1\" >HTML</th>        <th class=\"col_heading level0 col2\" >Outro formato</th>        <th class=\"col_heading level0 col3\" >PDF imagem</th>        <th class=\"col_heading level0 col4\" >PDF texto</th>    </tr>    <tr>        <th class=\"index_name level0\" >regiao</th>        <th class=\"blank\" ></th>        <th class=\"blank\" ></th>        <th class=\"blank\" ></th>        <th class=\"blank\" ></th>        <th class=\"blank\" ></th>    </tr></thead><tbody>\n",
       "                <tr>\n",
       "                        <th id=\"T_f436b47e_7ef4_11eb_9480_e454e805b732level0_row0\" class=\"row_heading level0 row0\" >Região Centro-Oeste</th>\n",
       "                        <td id=\"T_f436b47e_7ef4_11eb_9480_e454e805b732row0_col0\" class=\"data row0 col0\" >0.00%</td>\n",
       "                        <td id=\"T_f436b47e_7ef4_11eb_9480_e454e805b732row0_col1\" class=\"data row0 col1\" >20.83%</td>\n",
       "                        <td id=\"T_f436b47e_7ef4_11eb_9480_e454e805b732row0_col2\" class=\"data row0 col2\" >0.00%</td>\n",
       "                        <td id=\"T_f436b47e_7ef4_11eb_9480_e454e805b732row0_col3\" class=\"data row0 col3\" >12.50%</td>\n",
       "                        <td id=\"T_f436b47e_7ef4_11eb_9480_e454e805b732row0_col4\" class=\"data row0 col4\" >66.67%</td>\n",
       "            </tr>\n",
       "            <tr>\n",
       "                        <th id=\"T_f436b47e_7ef4_11eb_9480_e454e805b732level0_row1\" class=\"row_heading level0 row1\" >Região Nordeste</th>\n",
       "                        <td id=\"T_f436b47e_7ef4_11eb_9480_e454e805b732row1_col0\" class=\"data row1 col0\" >0.00%</td>\n",
       "                        <td id=\"T_f436b47e_7ef4_11eb_9480_e454e805b732row1_col1\" class=\"data row1 col1\" >14.06%</td>\n",
       "                        <td id=\"T_f436b47e_7ef4_11eb_9480_e454e805b732row1_col2\" class=\"data row1 col2\" >1.56%</td>\n",
       "                        <td id=\"T_f436b47e_7ef4_11eb_9480_e454e805b732row1_col3\" class=\"data row1 col3\" >18.75%</td>\n",
       "                        <td id=\"T_f436b47e_7ef4_11eb_9480_e454e805b732row1_col4\" class=\"data row1 col4\" >65.62%</td>\n",
       "            </tr>\n",
       "            <tr>\n",
       "                        <th id=\"T_f436b47e_7ef4_11eb_9480_e454e805b732level0_row2\" class=\"row_heading level0 row2\" >Região Norte</th>\n",
       "                        <td id=\"T_f436b47e_7ef4_11eb_9480_e454e805b732row2_col0\" class=\"data row2 col0\" >0.00%</td>\n",
       "                        <td id=\"T_f436b47e_7ef4_11eb_9480_e454e805b732row2_col1\" class=\"data row2 col1\" >35.48%</td>\n",
       "                        <td id=\"T_f436b47e_7ef4_11eb_9480_e454e805b732row2_col2\" class=\"data row2 col2\" >0.00%</td>\n",
       "                        <td id=\"T_f436b47e_7ef4_11eb_9480_e454e805b732row2_col3\" class=\"data row2 col3\" >12.90%</td>\n",
       "                        <td id=\"T_f436b47e_7ef4_11eb_9480_e454e805b732row2_col4\" class=\"data row2 col4\" >51.61%</td>\n",
       "            </tr>\n",
       "            <tr>\n",
       "                        <th id=\"T_f436b47e_7ef4_11eb_9480_e454e805b732level0_row3\" class=\"row_heading level0 row3\" >Região Sudeste</th>\n",
       "                        <td id=\"T_f436b47e_7ef4_11eb_9480_e454e805b732row3_col0\" class=\"data row3 col0\" >0.00%</td>\n",
       "                        <td id=\"T_f436b47e_7ef4_11eb_9480_e454e805b732row3_col1\" class=\"data row3 col1\" >9.09%</td>\n",
       "                        <td id=\"T_f436b47e_7ef4_11eb_9480_e454e805b732row3_col2\" class=\"data row3 col2\" >1.95%</td>\n",
       "                        <td id=\"T_f436b47e_7ef4_11eb_9480_e454e805b732row3_col3\" class=\"data row3 col3\" >11.69%</td>\n",
       "                        <td id=\"T_f436b47e_7ef4_11eb_9480_e454e805b732row3_col4\" class=\"data row3 col4\" >77.27%</td>\n",
       "            </tr>\n",
       "            <tr>\n",
       "                        <th id=\"T_f436b47e_7ef4_11eb_9480_e454e805b732level0_row4\" class=\"row_heading level0 row4\" >Região Sul</th>\n",
       "                        <td id=\"T_f436b47e_7ef4_11eb_9480_e454e805b732row4_col0\" class=\"data row4 col0\" >1.96%</td>\n",
       "                        <td id=\"T_f436b47e_7ef4_11eb_9480_e454e805b732row4_col1\" class=\"data row4 col1\" >33.33%</td>\n",
       "                        <td id=\"T_f436b47e_7ef4_11eb_9480_e454e805b732row4_col2\" class=\"data row4 col2\" >1.96%</td>\n",
       "                        <td id=\"T_f436b47e_7ef4_11eb_9480_e454e805b732row4_col3\" class=\"data row4 col3\" >3.92%</td>\n",
       "                        <td id=\"T_f436b47e_7ef4_11eb_9480_e454e805b732row4_col4\" class=\"data row4 col4\" >58.82%</td>\n",
       "            </tr>\n",
       "    </tbody></table>"
      ],
      "text/plain": [
       "<pandas.io.formats.style.Styler at 0x1d546745048>"
      ]
     },
     "execution_count": 812,
     "metadata": {},
     "output_type": "execute_result"
    }
   ],
   "source": [
    "# Percentual de municípios utilizando cada formato, por região\n",
    "df_r_perc = df_r.apply(lambda x: x/x.sum(), axis=1)\n",
    "df_r_perc.style.format({\n",
    "    'DOCX': '{:.2%}'.format,\n",
    "    'HTML': '{:.2%}'.format,\n",
    "    'Outro formato': '{:.2%}'.format,\n",
    "    'PDF imagem': '{:.2%}'.format,\n",
    "    'PDF texto': '{:.2%}'.format,\n",
    "})"
   ]
  },
  {
   "cell_type": "code",
   "execution_count": 813,
   "metadata": {},
   "outputs": [
    {
     "data": {
      "image/png": "[encoded data removed]",
      "text/plain": [
       "<Figure size 432x288 with 1 Axes>"
      ]
     },
     "metadata": {
      "needs_background": "light"
     },
     "output_type": "display_data"
    }
   ],
   "source": [
    "# Visualização da parcela de municípios utilizando cada formato, por região\n",
    "ax = df_r_perc.plot.barh(stacked=True)\n",
    "plt.legend(bbox_to_anchor=(1, 1.02))\n",
    "ax.set_ylabel(\"Região\")\n",
    "plt.show()"
   ]
  },
  {
   "cell_type": "code",
   "execution_count": 814,
   "metadata": {},
   "outputs": [
    {
     "data": {
      "text/html": [
       "<style  type=\"text/css\" >\n",
       "</style><table id=\"T_f459f9d4_7ef4_11eb_88b1_e454e805b732\" ><thead>    <tr>        <th class=\"index_name level0\" >tipo_arquivo</th>        <th class=\"col_heading level0 col0\" >DOCX</th>        <th class=\"col_heading level0 col1\" >HTML</th>        <th class=\"col_heading level0 col2\" >Outro formato</th>        <th class=\"col_heading level0 col3\" >PDF imagem</th>        <th class=\"col_heading level0 col4\" >PDF texto</th>    </tr>    <tr>        <th class=\"index_name level0\" >regiao</th>        <th class=\"blank\" ></th>        <th class=\"blank\" ></th>        <th class=\"blank\" ></th>        <th class=\"blank\" ></th>        <th class=\"blank\" ></th>    </tr></thead><tbody>\n",
       "                <tr>\n",
       "                        <th id=\"T_f459f9d4_7ef4_11eb_88b1_e454e805b732level0_row0\" class=\"row_heading level0 row0\" >Região Centro-Oeste</th>\n",
       "                        <td id=\"T_f459f9d4_7ef4_11eb_88b1_e454e805b732row0_col0\" class=\"data row0 col0\" >0.00%</td>\n",
       "                        <td id=\"T_f459f9d4_7ef4_11eb_88b1_e454e805b732row0_col1\" class=\"data row0 col1\" >12.62%</td>\n",
       "                        <td id=\"T_f459f9d4_7ef4_11eb_88b1_e454e805b732row0_col2\" class=\"data row0 col2\" >0.00%</td>\n",
       "                        <td id=\"T_f459f9d4_7ef4_11eb_88b1_e454e805b732row0_col3\" class=\"data row0 col3\" >11.92%</td>\n",
       "                        <td id=\"T_f459f9d4_7ef4_11eb_88b1_e454e805b732row0_col4\" class=\"data row0 col4\" >75.46%</td>\n",
       "            </tr>\n",
       "            <tr>\n",
       "                        <th id=\"T_f459f9d4_7ef4_11eb_88b1_e454e805b732level0_row1\" class=\"row_heading level0 row1\" >Região Nordeste</th>\n",
       "                        <td id=\"T_f459f9d4_7ef4_11eb_88b1_e454e805b732row1_col0\" class=\"data row1 col0\" >0.00%</td>\n",
       "                        <td id=\"T_f459f9d4_7ef4_11eb_88b1_e454e805b732row1_col1\" class=\"data row1 col1\" >7.82%</td>\n",
       "                        <td id=\"T_f459f9d4_7ef4_11eb_88b1_e454e805b732row1_col2\" class=\"data row1 col2\" >0.44%</td>\n",
       "                        <td id=\"T_f459f9d4_7ef4_11eb_88b1_e454e805b732row1_col3\" class=\"data row1 col3\" >28.21%</td>\n",
       "                        <td id=\"T_f459f9d4_7ef4_11eb_88b1_e454e805b732row1_col4\" class=\"data row1 col4\" >63.53%</td>\n",
       "            </tr>\n",
       "            <tr>\n",
       "                        <th id=\"T_f459f9d4_7ef4_11eb_88b1_e454e805b732level0_row2\" class=\"row_heading level0 row2\" >Região Norte</th>\n",
       "                        <td id=\"T_f459f9d4_7ef4_11eb_88b1_e454e805b732row2_col0\" class=\"data row2 col0\" >0.00%</td>\n",
       "                        <td id=\"T_f459f9d4_7ef4_11eb_88b1_e454e805b732row2_col1\" class=\"data row2 col1\" >17.43%</td>\n",
       "                        <td id=\"T_f459f9d4_7ef4_11eb_88b1_e454e805b732row2_col2\" class=\"data row2 col2\" >0.00%</td>\n",
       "                        <td id=\"T_f459f9d4_7ef4_11eb_88b1_e454e805b732row2_col3\" class=\"data row2 col3\" >9.00%</td>\n",
       "                        <td id=\"T_f459f9d4_7ef4_11eb_88b1_e454e805b732row2_col4\" class=\"data row2 col4\" >73.57%</td>\n",
       "            </tr>\n",
       "            <tr>\n",
       "                        <th id=\"T_f459f9d4_7ef4_11eb_88b1_e454e805b732level0_row3\" class=\"row_heading level0 row3\" >Região Sudeste</th>\n",
       "                        <td id=\"T_f459f9d4_7ef4_11eb_88b1_e454e805b732row3_col0\" class=\"data row3 col0\" >0.00%</td>\n",
       "                        <td id=\"T_f459f9d4_7ef4_11eb_88b1_e454e805b732row3_col1\" class=\"data row3 col1\" >6.02%</td>\n",
       "                        <td id=\"T_f459f9d4_7ef4_11eb_88b1_e454e805b732row3_col2\" class=\"data row3 col2\" >0.55%</td>\n",
       "                        <td id=\"T_f459f9d4_7ef4_11eb_88b1_e454e805b732row3_col3\" class=\"data row3 col3\" >6.34%</td>\n",
       "                        <td id=\"T_f459f9d4_7ef4_11eb_88b1_e454e805b732row3_col4\" class=\"data row3 col4\" >87.09%</td>\n",
       "            </tr>\n",
       "            <tr>\n",
       "                        <th id=\"T_f459f9d4_7ef4_11eb_88b1_e454e805b732level0_row4\" class=\"row_heading level0 row4\" >Região Sul</th>\n",
       "                        <td id=\"T_f459f9d4_7ef4_11eb_88b1_e454e805b732row4_col0\" class=\"data row4 col0\" >0.94%</td>\n",
       "                        <td id=\"T_f459f9d4_7ef4_11eb_88b1_e454e805b732row4_col1\" class=\"data row4 col1\" >23.86%</td>\n",
       "                        <td id=\"T_f459f9d4_7ef4_11eb_88b1_e454e805b732row4_col2\" class=\"data row4 col2\" >0.73%</td>\n",
       "                        <td id=\"T_f459f9d4_7ef4_11eb_88b1_e454e805b732row4_col3\" class=\"data row4 col3\" >2.99%</td>\n",
       "                        <td id=\"T_f459f9d4_7ef4_11eb_88b1_e454e805b732row4_col4\" class=\"data row4 col4\" >71.48%</td>\n",
       "            </tr>\n",
       "    </tbody></table>"
      ],
      "text/plain": [
       "<pandas.io.formats.style.Styler at 0x1d54681d888>"
      ]
     },
     "execution_count": 814,
     "metadata": {},
     "output_type": "execute_result"
    }
   ],
   "source": [
    "# População com acesso a cada formato, por região\n",
    "df_r_p = df.groupby([\"regiao\",\"tipo_arquivo\"])[\"populacao_2020\"].sum()\n",
    "df_r_p = df_r_p.reset_index().pivot('regiao', 'tipo_arquivo', 'populacao_2020')\n",
    "df_r_p = df_r_p.fillna(0).astype(int)\n",
    "# Percentual da população com acesso a cada formato, por região\n",
    "df_r_p_perc = df_r_p.apply(lambda x: x/x.sum(), axis=1)\n",
    "df_r_p_perc.style.format({\n",
    "    'DOCX': '{:.2%}'.format,\n",
    "    'HTML': '{:.2%}'.format,\n",
    "    'Outro formato': '{:.2%}'.format,\n",
    "    'PDF imagem': '{:.2%}'.format,\n",
    "    'PDF texto': '{:.2%}'.format,\n",
    "})"
   ]
  },
  {
   "cell_type": "code",
   "execution_count": 857,
   "metadata": {},
   "outputs": [
    {
     "data": {
      "image/png": "[encoded data removed]",
      "text/plain": [
       "<Figure size 432x288 with 1 Axes>"
      ]
     },
     "metadata": {
      "needs_background": "light"
     },
     "output_type": "display_data"
    }
   ],
   "source": [
    "# Visualização da parcela da população com acesso a cada formato, por região\n",
    "ax = df_r_p_perc.plot.barh(stacked=True)\n",
    "plt.legend(bbox_to_anchor=(1, 1.02))\n",
    "ax.set_ylabel(\"Região\")\n",
    "plt.show()"
   ]
  },
  {
   "cell_type": "markdown",
   "metadata": {},
   "source": [
    "## Análise por UF\n",
    "- Nesta seção, o destaque positivo fica para o Distrito Federal e para o Tocantins, que disponibilizam 100% de seus D.O. no formato PDF texto.\n",
    "- No extremo oposto, destaca-se o estado do Amapá, que disponibiliza 100% dos D.O. da amostra no formato PDF imagem."
   ]
  },
  {
   "cell_type": "code",
   "execution_count": 828,
   "metadata": {},
   "outputs": [
    {
     "data": {
      "text/html": [
       "<style  type=\"text/css\" >\n",
       "</style><table id=\"T_9d169838_7ef5_11eb_8688_e454e805b732\" ><thead>    <tr>        <th class=\"index_name level0\" >tipo_arquivo</th>        <th class=\"col_heading level0 col0\" >DOCX</th>        <th class=\"col_heading level0 col1\" >HTML</th>        <th class=\"col_heading level0 col2\" >Outro formato</th>        <th class=\"col_heading level0 col3\" >PDF imagem</th>        <th class=\"col_heading level0 col4\" >PDF texto</th>    </tr>    <tr>        <th class=\"index_name level0\" >UF</th>        <th class=\"blank\" ></th>        <th class=\"blank\" ></th>        <th class=\"blank\" ></th>        <th class=\"blank\" ></th>        <th class=\"blank\" ></th>    </tr></thead><tbody>\n",
       "                <tr>\n",
       "                        <th id=\"T_9d169838_7ef5_11eb_8688_e454e805b732level0_row0\" class=\"row_heading level0 row0\" >AC</th>\n",
       "                        <td id=\"T_9d169838_7ef5_11eb_8688_e454e805b732row0_col0\" class=\"data row0 col0\" >0.00%</td>\n",
       "                        <td id=\"T_9d169838_7ef5_11eb_8688_e454e805b732row0_col1\" class=\"data row0 col1\" >0.00%</td>\n",
       "                        <td id=\"T_9d169838_7ef5_11eb_8688_e454e805b732row0_col2\" class=\"data row0 col2\" >0.00%</td>\n",
       "                        <td id=\"T_9d169838_7ef5_11eb_8688_e454e805b732row0_col3\" class=\"data row0 col3\" >0.00%</td>\n",
       "                        <td id=\"T_9d169838_7ef5_11eb_8688_e454e805b732row0_col4\" class=\"data row0 col4\" >100.00%</td>\n",
       "            </tr>\n",
       "            <tr>\n",
       "                        <th id=\"T_9d169838_7ef5_11eb_8688_e454e805b732level0_row1\" class=\"row_heading level0 row1\" >AL</th>\n",
       "                        <td id=\"T_9d169838_7ef5_11eb_8688_e454e805b732row1_col0\" class=\"data row1 col0\" >0.00%</td>\n",
       "                        <td id=\"T_9d169838_7ef5_11eb_8688_e454e805b732row1_col1\" class=\"data row1 col1\" >0.00%</td>\n",
       "                        <td id=\"T_9d169838_7ef5_11eb_8688_e454e805b732row1_col2\" class=\"data row1 col2\" >0.00%</td>\n",
       "                        <td id=\"T_9d169838_7ef5_11eb_8688_e454e805b732row1_col3\" class=\"data row1 col3\" >0.00%</td>\n",
       "                        <td id=\"T_9d169838_7ef5_11eb_8688_e454e805b732row1_col4\" class=\"data row1 col4\" >100.00%</td>\n",
       "            </tr>\n",
       "            <tr>\n",
       "                        <th id=\"T_9d169838_7ef5_11eb_8688_e454e805b732level0_row2\" class=\"row_heading level0 row2\" >AM</th>\n",
       "                        <td id=\"T_9d169838_7ef5_11eb_8688_e454e805b732row2_col0\" class=\"data row2 col0\" >0.00%</td>\n",
       "                        <td id=\"T_9d169838_7ef5_11eb_8688_e454e805b732row2_col1\" class=\"data row2 col1\" >66.67%</td>\n",
       "                        <td id=\"T_9d169838_7ef5_11eb_8688_e454e805b732row2_col2\" class=\"data row2 col2\" >0.00%</td>\n",
       "                        <td id=\"T_9d169838_7ef5_11eb_8688_e454e805b732row2_col3\" class=\"data row2 col3\" >0.00%</td>\n",
       "                        <td id=\"T_9d169838_7ef5_11eb_8688_e454e805b732row2_col4\" class=\"data row2 col4\" >33.33%</td>\n",
       "            </tr>\n",
       "            <tr>\n",
       "                        <th id=\"T_9d169838_7ef5_11eb_8688_e454e805b732level0_row3\" class=\"row_heading level0 row3\" >AP</th>\n",
       "                        <td id=\"T_9d169838_7ef5_11eb_8688_e454e805b732row3_col0\" class=\"data row3 col0\" >0.00%</td>\n",
       "                        <td id=\"T_9d169838_7ef5_11eb_8688_e454e805b732row3_col1\" class=\"data row3 col1\" >0.00%</td>\n",
       "                        <td id=\"T_9d169838_7ef5_11eb_8688_e454e805b732row3_col2\" class=\"data row3 col2\" >0.00%</td>\n",
       "                        <td id=\"T_9d169838_7ef5_11eb_8688_e454e805b732row3_col3\" class=\"data row3 col3\" >100.00%</td>\n",
       "                        <td id=\"T_9d169838_7ef5_11eb_8688_e454e805b732row3_col4\" class=\"data row3 col4\" >0.00%</td>\n",
       "            </tr>\n",
       "            <tr>\n",
       "                        <th id=\"T_9d169838_7ef5_11eb_8688_e454e805b732level0_row4\" class=\"row_heading level0 row4\" >BA</th>\n",
       "                        <td id=\"T_9d169838_7ef5_11eb_8688_e454e805b732row4_col0\" class=\"data row4 col0\" >0.00%</td>\n",
       "                        <td id=\"T_9d169838_7ef5_11eb_8688_e454e805b732row4_col1\" class=\"data row4 col1\" >0.00%</td>\n",
       "                        <td id=\"T_9d169838_7ef5_11eb_8688_e454e805b732row4_col2\" class=\"data row4 col2\" >0.00%</td>\n",
       "                        <td id=\"T_9d169838_7ef5_11eb_8688_e454e805b732row4_col3\" class=\"data row4 col3\" >47.06%</td>\n",
       "                        <td id=\"T_9d169838_7ef5_11eb_8688_e454e805b732row4_col4\" class=\"data row4 col4\" >52.94%</td>\n",
       "            </tr>\n",
       "    </tbody></table>"
      ],
      "text/plain": [
       "<pandas.io.formats.style.Styler at 0x1d545146a48>"
      ]
     },
     "execution_count": 828,
     "metadata": {},
     "output_type": "execute_result"
    }
   ],
   "source": [
    "# Número de municípios utilizando cada formato, por UF\n",
    "df_uf = df.groupby([\"UF\", \"tipo_arquivo\"])[\"municipio\"].nunique()\n",
    "df_uf = df_uf.reset_index().pivot('UF', 'tipo_arquivo', 'municipio')\n",
    "df_uf = df_uf.fillna(0).astype(int)\n",
    "# Percentual de municípios utilizando cada formato, por UF\n",
    "df_uf_perc = df_uf.apply(lambda x: x/x.sum(), axis=1)\n",
    "df_uf_perc.head().style.format({\n",
    "    'DOCX': '{:.2%}'.format,\n",
    "    'HTML': '{:.2%}'.format,\n",
    "    'Outro formato': '{:.2%}'.format,\n",
    "    'PDF imagem': '{:.2%}'.format,\n",
    "    'PDF texto': '{:.2%}'.format,\n",
    "    })"
   ]
  },
  {
   "cell_type": "code",
   "execution_count": 818,
   "metadata": {},
   "outputs": [
    {
     "data": {
      "image/png": "[encoded data removed]",
      "text/plain": [
       "<Figure size 720x360 with 1 Axes>"
      ]
     },
     "metadata": {
      "needs_background": "light"
     },
     "output_type": "display_data"
    }
   ],
   "source": [
    "# Visualização da parcela de municípios utilizando cada formato, por UF\n",
    "df_uf_perc.plot.bar(stacked=True, figsize=(10,5))\n",
    "plt.legend(bbox_to_anchor=(1, 1.02))\n",
    "plt.show()"
   ]
  },
  {
   "cell_type": "code",
   "execution_count": 829,
   "metadata": {},
   "outputs": [
    {
     "data": {
      "text/html": [
       "<style  type=\"text/css\" >\n",
       "</style><table id=\"T_9f3f608c_7ef5_11eb_b9ff_e454e805b732\" ><thead>    <tr>        <th class=\"index_name level0\" >tipo_arquivo</th>        <th class=\"col_heading level0 col0\" >DOCX</th>        <th class=\"col_heading level0 col1\" >HTML</th>        <th class=\"col_heading level0 col2\" >Outro formato</th>        <th class=\"col_heading level0 col3\" >PDF imagem</th>        <th class=\"col_heading level0 col4\" >PDF texto</th>    </tr>    <tr>        <th class=\"index_name level0\" >UF</th>        <th class=\"blank\" ></th>        <th class=\"blank\" ></th>        <th class=\"blank\" ></th>        <th class=\"blank\" ></th>        <th class=\"blank\" ></th>    </tr></thead><tbody>\n",
       "                <tr>\n",
       "                        <th id=\"T_9f3f608c_7ef5_11eb_b9ff_e454e805b732level0_row0\" class=\"row_heading level0 row0\" >AC</th>\n",
       "                        <td id=\"T_9f3f608c_7ef5_11eb_b9ff_e454e805b732row0_col0\" class=\"data row0 col0\" >0.00%</td>\n",
       "                        <td id=\"T_9f3f608c_7ef5_11eb_b9ff_e454e805b732row0_col1\" class=\"data row0 col1\" >0.00%</td>\n",
       "                        <td id=\"T_9f3f608c_7ef5_11eb_b9ff_e454e805b732row0_col2\" class=\"data row0 col2\" >0.00%</td>\n",
       "                        <td id=\"T_9f3f608c_7ef5_11eb_b9ff_e454e805b732row0_col3\" class=\"data row0 col3\" >0.00%</td>\n",
       "                        <td id=\"T_9f3f608c_7ef5_11eb_b9ff_e454e805b732row0_col4\" class=\"data row0 col4\" >100.00%</td>\n",
       "            </tr>\n",
       "            <tr>\n",
       "                        <th id=\"T_9f3f608c_7ef5_11eb_b9ff_e454e805b732level0_row1\" class=\"row_heading level0 row1\" >AL</th>\n",
       "                        <td id=\"T_9f3f608c_7ef5_11eb_b9ff_e454e805b732row1_col0\" class=\"data row1 col0\" >0.00%</td>\n",
       "                        <td id=\"T_9f3f608c_7ef5_11eb_b9ff_e454e805b732row1_col1\" class=\"data row1 col1\" >0.00%</td>\n",
       "                        <td id=\"T_9f3f608c_7ef5_11eb_b9ff_e454e805b732row1_col2\" class=\"data row1 col2\" >0.00%</td>\n",
       "                        <td id=\"T_9f3f608c_7ef5_11eb_b9ff_e454e805b732row1_col3\" class=\"data row1 col3\" >0.00%</td>\n",
       "                        <td id=\"T_9f3f608c_7ef5_11eb_b9ff_e454e805b732row1_col4\" class=\"data row1 col4\" >100.00%</td>\n",
       "            </tr>\n",
       "            <tr>\n",
       "                        <th id=\"T_9f3f608c_7ef5_11eb_b9ff_e454e805b732level0_row2\" class=\"row_heading level0 row2\" >AM</th>\n",
       "                        <td id=\"T_9f3f608c_7ef5_11eb_b9ff_e454e805b732row2_col0\" class=\"data row2 col0\" >0.00%</td>\n",
       "                        <td id=\"T_9f3f608c_7ef5_11eb_b9ff_e454e805b732row2_col1\" class=\"data row2 col1\" >8.95%</td>\n",
       "                        <td id=\"T_9f3f608c_7ef5_11eb_b9ff_e454e805b732row2_col2\" class=\"data row2 col2\" >0.00%</td>\n",
       "                        <td id=\"T_9f3f608c_7ef5_11eb_b9ff_e454e805b732row2_col3\" class=\"data row2 col3\" >0.00%</td>\n",
       "                        <td id=\"T_9f3f608c_7ef5_11eb_b9ff_e454e805b732row2_col4\" class=\"data row2 col4\" >91.05%</td>\n",
       "            </tr>\n",
       "            <tr>\n",
       "                        <th id=\"T_9f3f608c_7ef5_11eb_b9ff_e454e805b732level0_row3\" class=\"row_heading level0 row3\" >AP</th>\n",
       "                        <td id=\"T_9f3f608c_7ef5_11eb_b9ff_e454e805b732row3_col0\" class=\"data row3 col0\" >0.00%</td>\n",
       "                        <td id=\"T_9f3f608c_7ef5_11eb_b9ff_e454e805b732row3_col1\" class=\"data row3 col1\" >0.00%</td>\n",
       "                        <td id=\"T_9f3f608c_7ef5_11eb_b9ff_e454e805b732row3_col2\" class=\"data row3 col2\" >0.00%</td>\n",
       "                        <td id=\"T_9f3f608c_7ef5_11eb_b9ff_e454e805b732row3_col3\" class=\"data row3 col3\" >100.00%</td>\n",
       "                        <td id=\"T_9f3f608c_7ef5_11eb_b9ff_e454e805b732row3_col4\" class=\"data row3 col4\" >0.00%</td>\n",
       "            </tr>\n",
       "            <tr>\n",
       "                        <th id=\"T_9f3f608c_7ef5_11eb_b9ff_e454e805b732level0_row4\" class=\"row_heading level0 row4\" >BA</th>\n",
       "                        <td id=\"T_9f3f608c_7ef5_11eb_b9ff_e454e805b732row4_col0\" class=\"data row4 col0\" >0.00%</td>\n",
       "                        <td id=\"T_9f3f608c_7ef5_11eb_b9ff_e454e805b732row4_col1\" class=\"data row4 col1\" >0.00%</td>\n",
       "                        <td id=\"T_9f3f608c_7ef5_11eb_b9ff_e454e805b732row4_col2\" class=\"data row4 col2\" >0.00%</td>\n",
       "                        <td id=\"T_9f3f608c_7ef5_11eb_b9ff_e454e805b732row4_col3\" class=\"data row4 col3\" >26.63%</td>\n",
       "                        <td id=\"T_9f3f608c_7ef5_11eb_b9ff_e454e805b732row4_col4\" class=\"data row4 col4\" >73.37%</td>\n",
       "            </tr>\n",
       "    </tbody></table>"
      ],
      "text/plain": [
       "<pandas.io.formats.style.Styler at 0x1d543ca2208>"
      ]
     },
     "execution_count": 829,
     "metadata": {},
     "output_type": "execute_result"
    }
   ],
   "source": [
    "# População com acesso a cada formato, por UF\n",
    "df_uf_p = df.groupby([\"UF\", \"tipo_arquivo\"])[\"populacao_2020\"].sum()\n",
    "df_uf_p = df_uf_p.reset_index().pivot('UF', 'tipo_arquivo', 'populacao_2020')\n",
    "df_uf_p = df_uf_p.fillna(0).astype(int)\n",
    "# Percentual da população com acesso a cada formato, por região\n",
    "df_uf_p_perc = df_uf_p.apply(lambda x: x/x.sum(), axis=1)\n",
    "df_uf_p_perc.head().style.format({\n",
    "    'DOCX': '{:.2%}'.format,\n",
    "    'HTML': '{:.2%}'.format,\n",
    "    'Outro formato': '{:.2%}'.format,\n",
    "    'PDF imagem': '{:.2%}'.format,\n",
    "    'PDF texto': '{:.2%}'.format,\n",
    "})"
   ]
  },
  {
   "cell_type": "code",
   "execution_count": 820,
   "metadata": {},
   "outputs": [
    {
     "data": {
      "image/png": "[encoded data removed]",
      "text/plain": [
       "<Figure size 720x360 with 1 Axes>"
      ]
     },
     "metadata": {
      "needs_background": "light"
     },
     "output_type": "display_data"
    }
   ],
   "source": [
    "# Visualização da parcela da população com acesso a cada formato, por UF\n",
    "df_uf_p_perc.plot.bar(stacked=True, figsize=(10,5))\n",
    "plt.legend(bbox_to_anchor=(1, 1.02))\n",
    "plt.show()"
   ]
  }
 ],
 "metadata": {
  "kernelspec": {
   "display_name": "Python 3",
   "language": "python",
   "name": "python3"
  },
  "language_info": {
   "codemirror_mode": {
    "name": "ipython",
    "version": 3
   },
   "file_extension": ".py",
   "mimetype": "text/x-python",
   "name": "python",
   "nbconvert_exporter": "python",
   "pygments_lexer": "ipython3",
   "version": "3.7.4"
  }
 },
 "nbformat": 4,
 "nbformat_minor": 2
}
